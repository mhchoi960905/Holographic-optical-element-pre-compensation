{
 "cells": [
  {
   "attachments": {},
   "cell_type": "markdown",
   "metadata": {},
   "source": [
    "# Some calculations for foveated VR display\n",
    "## MHChoi, Feb. 06, 2023\n"
   ]
  },
  {
   "cell_type": "code",
   "execution_count": 2,
   "metadata": {},
   "outputs": [],
   "source": [
    "import numpy as np\n",
    "import matplotlib.pyplot as plt\n",
    "\n",
    "# refer 20230203_progress_report_최명호.pptx\n",
    "\n",
    "# Parameters\n",
    "nm, um, mm, cm, inch = (1e-9, 1e-6, 1e-3, 1e-2, 25.4/1000)\n",
    "f_GPL_RCP = 100*mm\n",
    "f_GPL_LCP = -100*mm\n",
    "f_EP = 100*mm\n",
    "\n",
    "d_QWP = 0.5*inch"
   ]
  }
 ],
 "metadata": {
  "kernelspec": {
   "display_name": "Python 3",
   "language": "python",
   "name": "python3"
  },
  "language_info": {
   "codemirror_mode": {
    "name": "ipython",
    "version": 3
   },
   "file_extension": ".py",
   "mimetype": "text/x-python",
   "name": "python",
   "nbconvert_exporter": "python",
   "pygments_lexer": "ipython3",
   "version": "3.10.6"
  },
  "orig_nbformat": 4,
  "vscode": {
   "interpreter": {
    "hash": "fb4569285eef3a3450cb62085a5b1e0da4bce0af555edc33dcf29baf3acc1368"
   }
  }
 },
 "nbformat": 4,
 "nbformat_minor": 2
}
